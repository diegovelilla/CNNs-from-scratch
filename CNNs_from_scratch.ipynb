{
  "nbformat": 4,
  "nbformat_minor": 0,
  "metadata": {
    "colab": {
      "provenance": [],
      "gpuType": "T4",
      "authorship_tag": "ABX9TyPTD8126D6+oZAHi1vT6XOe",
      "include_colab_link": true
    },
    "kernelspec": {
      "name": "python3",
      "display_name": "Python 3"
    },
    "language_info": {
      "name": "python"
    },
    "accelerator": "GPU"
  },
  "cells": [
    {
      "cell_type": "markdown",
      "metadata": {
        "id": "view-in-github",
        "colab_type": "text"
      },
      "source": [
        "<a href=\"https://colab.research.google.com/github/diegovelilla/CNNs-from-scratch/blob/main/CNNs_from_scratch.ipynb\" target=\"_parent\"><img src=\"https://colab.research.google.com/assets/colab-badge.svg\" alt=\"Open In Colab\"/></a>"
      ]
    },
    {
      "cell_type": "markdown",
      "source": [
        "#CNN to predict on the MNIST dataset"
      ],
      "metadata": {
        "id": "WtF7-PsUeNS-"
      }
    },
    {
      "cell_type": "code",
      "source": [
        "from torchvision import datasets\n",
        "import torchvision.transforms as transforms\n",
        "train_data = datasets.MNIST(root='data', train=True, download=True, transform=transforms.ToTensor())\n",
        "test_data = datasets.MNIST(root='data', train=False, download=True, transform=transforms.ToTensor())"
      ],
      "metadata": {
        "id": "rVZ36XDtkzah"
      },
      "execution_count": null,
      "outputs": []
    },
    {
      "cell_type": "code",
      "source": [
        "train_data.data.shape"
      ],
      "metadata": {
        "colab": {
          "base_uri": "https://localhost:8080/"
        },
        "id": "1phjWXAwAZJq",
        "outputId": "9128efc8-eacd-4f57-fafe-06ba67cb3e17"
      },
      "execution_count": 2,
      "outputs": [
        {
          "output_type": "execute_result",
          "data": {
            "text/plain": [
              "torch.Size([60000, 28, 28])"
            ]
          },
          "metadata": {},
          "execution_count": 2
        }
      ]
    },
    {
      "cell_type": "code",
      "source": [
        "test_data.data.size()"
      ],
      "metadata": {
        "colab": {
          "base_uri": "https://localhost:8080/"
        },
        "id": "qc7sFDgYA3yL",
        "outputId": "4a875e7b-9b75-47d1-f9b7-185c88864d5b"
      },
      "execution_count": 3,
      "outputs": [
        {
          "output_type": "execute_result",
          "data": {
            "text/plain": [
              "torch.Size([10000, 28, 28])"
            ]
          },
          "metadata": {},
          "execution_count": 3
        }
      ]
    },
    {
      "cell_type": "code",
      "source": [
        "from torch.utils.data import DataLoader\n",
        "\n",
        "loaders = {\n",
        "    'train': DataLoader(train_data, batch_size=100, shuffle=True),\n",
        "    'test': DataLoader(test_data, batch_size=100, shuffle=True)\n",
        "}"
      ],
      "metadata": {
        "id": "TeGgk1ETBBtZ"
      },
      "execution_count": 4,
      "outputs": []
    },
    {
      "cell_type": "code",
      "source": [
        "import torch.nn as nn\n",
        "import torch.nn.functional as F\n",
        "import torch.optim as optim\n",
        "\n",
        "class CNN(nn.Module):\n",
        "  def __init__(self):\n",
        "    super(CNN, self).__init__()\n",
        "    self.conv1 = nn.Conv2d(in_channels=1, out_channels=10, kernel_size=5, stride=1)\n",
        "    self.conv2 = nn.Conv2d(in_channels=10, out_channels=20, kernel_size=5, stride=1)\n",
        "    self.conv2_drop = nn.Dropout2d()\n",
        "    self.fc1 = nn.Linear(320, 50)\n",
        "    self.fc2 = nn.Linear(50, 10)\n",
        "\n",
        "  def forward(self, x):\n",
        "    # Input is 1x28x28 since it only has 1 color channel and the size is 28x28\n",
        "    # Formula to calculate tensor size is:\n",
        "    # (Input_size - Kernel_size)/Stride + 1\n",
        "    # First convolutional layer\n",
        "    x = self.conv1(x) # 10x24x24\n",
        "    x = F.max_pool2d(x, kernel_size=2, stride=2) # 10x12x12\n",
        "    x = F.relu(x) # 10x12x12\n",
        "\n",
        "    # Second convolutional layer\n",
        "    # Input is 10x12x12\n",
        "    x = self.conv2(x) # 20x8x8\n",
        "    x = self.conv2_drop(x) # 20x8x8\n",
        "    x = F.max_pool2d(x, kernel_size=2, stride=2) # 20x4x4\n",
        "    x = F.relu(x) # 20x4x4\n",
        "\n",
        "    # First fully connected layer\n",
        "    x = x.view(-1, 320) # Flattens 20x4x4 -> 320\n",
        "    x = self.fc1(x) # 320 -> 50\n",
        "    x = F.relu(x) # 50\n",
        "    # x = F.dropout(x, training=self.training) # 50\n",
        "\n",
        "    # Second fully connected layer\n",
        "    x = self.fc2(x) # 50 -> 10\n",
        "    x = F.softmax(x) # 10\n",
        "    return x"
      ],
      "metadata": {
        "id": "Tt-5wkvfBR2E"
      },
      "execution_count": 5,
      "outputs": []
    },
    {
      "cell_type": "code",
      "source": [
        "import torch\n",
        "\n",
        "device = torch.device(\"cuda\" if torch.cuda.is_available() else \"cpu\")\n",
        "print(device)"
      ],
      "metadata": {
        "colab": {
          "base_uri": "https://localhost:8080/"
        },
        "id": "EMUR2-VrIIzX",
        "outputId": "5ff98e99-cd98-4e97-8dba-836d5be9986b"
      },
      "execution_count": 6,
      "outputs": [
        {
          "output_type": "stream",
          "name": "stdout",
          "text": [
            "cuda\n"
          ]
        }
      ]
    },
    {
      "cell_type": "code",
      "source": [
        "model = CNN().to(device)\n",
        "loss_func = nn.CrossEntropyLoss()\n",
        "optimizer = optim.Adam(model.parameters(), lr=0.001)"
      ],
      "metadata": {
        "id": "4gWl33-4IWxY"
      },
      "execution_count": 14,
      "outputs": []
    },
    {
      "cell_type": "code",
      "source": [
        "def train(model, loaders,  device, optimizer, loss_func):\n",
        "  model.train()\n",
        "  loss_vec = []\n",
        "  for batch_idx, (data, target) in enumerate(loaders['train']):\n",
        "    data, target = data.to(device), target.to(device)\n",
        "    optimizer.zero_grad()\n",
        "    output = model(data)\n",
        "    loss = loss_func(output, target)\n",
        "    loss_vec.append(loss.item())\n",
        "    loss.backward()\n",
        "    optimizer.step()\n",
        "\n",
        "    if batch_idx % 100 == 0:\n",
        "      print(f'Batch: {batch_idx}/{len(loaders[\"train\"])}, Loss: {loss.item()}')\n",
        "  return sum(loss_vec)/len(loss_vec)\n",
        "\n",
        "def test(model, loaders, device, loss_vec, loss_func, acc_vec):\n",
        "    model.eval()\n",
        "    correct = 0\n",
        "    test_loss = 0\n",
        "    num_batches = len(loaders['test'])\n",
        "\n",
        "    with torch.no_grad():\n",
        "        for data, target in loaders['test']:\n",
        "            data, target = data.to(device), target.to(device)\n",
        "            output = model(data)\n",
        "            loss = loss_func(output, target)\n",
        "            test_loss += loss.item()\n",
        "            pred = output.argmax(1, keepdim=True)\n",
        "            correct += pred.eq(target.view_as(pred)).sum().item()\n",
        "\n",
        "    avg_test_loss = test_loss / num_batches\n",
        "    accuracy = 100. * correct / len(loaders['test'].dataset)\n",
        "    loss_vec.append(avg_test_loss)\n",
        "    acc_vec.append(accuracy)\n",
        "    print(f'Test loss: {avg_test_loss:.6f}, Accuracy: {accuracy:.2f}%')\n",
        "    return loss_vec, acc_vec\n"
      ],
      "metadata": {
        "id": "YbHOGs2cIgaM"
      },
      "execution_count": 15,
      "outputs": []
    },
    {
      "cell_type": "code",
      "source": [
        "loss_vec = []\n",
        "train_loss_vec = []\n",
        "acc_vec = []\n",
        "for epoch in range(20):\n",
        "  train_loss_vec.append(train(model, loaders, device, optimizer, loss_func))\n",
        "  print('-----------------------------------------------')\n",
        "  print(f'For epoch number {epoch+1} the results are:')\n",
        "  print(f'Train loss: {train_loss_vec[epoch]}')\n",
        "  test_loss_vec, acc_vec = test(model, loaders, device, loss_vec, loss_func, acc_vec)\n",
        "  print('-----------------------------------------------')"
      ],
      "metadata": {
        "colab": {
          "base_uri": "https://localhost:8080/"
        },
        "id": "zDh_jPqrKBiJ",
        "outputId": "254c1512-8e9c-40c5-94b2-c9f20204c3d1"
      },
      "execution_count": 16,
      "outputs": [
        {
          "output_type": "stream",
          "name": "stderr",
          "text": [
            "<ipython-input-5-45356a30f04e>:38: UserWarning: Implicit dimension choice for softmax has been deprecated. Change the call to include dim=X as an argument.\n",
            "  x = F.softmax(x) # 10\n"
          ]
        },
        {
          "output_type": "stream",
          "name": "stdout",
          "text": [
            "Batch: 0/600, Loss: 2.3033788204193115\n",
            "Batch: 100/600, Loss: 1.7984188795089722\n",
            "Batch: 200/600, Loss: 1.7572245597839355\n",
            "Batch: 300/600, Loss: 1.628720998764038\n",
            "Batch: 400/600, Loss: 1.7142271995544434\n",
            "Batch: 500/600, Loss: 1.652958631515503\n",
            "-----------------------------------------------\n",
            "For epoch number 1 the results are:\n",
            "Train loss: 1.7344983633359272\n",
            "Test loss: 1.609917, Accuracy: 85.19%\n",
            "-----------------------------------------------\n",
            "Batch: 0/600, Loss: 1.5965018272399902\n",
            "Batch: 100/600, Loss: 1.6719785928726196\n",
            "Batch: 200/600, Loss: 1.667546033859253\n",
            "Batch: 300/600, Loss: 1.6165587902069092\n",
            "Batch: 400/600, Loss: 1.5825743675231934\n",
            "Batch: 500/600, Loss: 1.6337158679962158\n",
            "-----------------------------------------------\n",
            "For epoch number 2 the results are:\n",
            "Train loss: 1.619285360177358\n",
            "Test loss: 1.592700, Accuracy: 86.93%\n",
            "-----------------------------------------------\n",
            "Batch: 0/600, Loss: 1.5706907510757446\n",
            "Batch: 100/600, Loss: 1.6411652565002441\n",
            "Batch: 200/600, Loss: 1.6751904487609863\n",
            "Batch: 300/600, Loss: 1.5699409246444702\n",
            "Batch: 400/600, Loss: 1.5208643674850464\n",
            "Batch: 500/600, Loss: 1.5253355503082275\n",
            "-----------------------------------------------\n",
            "For epoch number 3 the results are:\n",
            "Train loss: 1.5536078308025996\n",
            "Test loss: 1.496733, Accuracy: 96.56%\n",
            "-----------------------------------------------\n",
            "Batch: 0/600, Loss: 1.545607566833496\n",
            "Batch: 100/600, Loss: 1.5401577949523926\n",
            "Batch: 200/600, Loss: 1.542151927947998\n",
            "Batch: 300/600, Loss: 1.5140777826309204\n",
            "Batch: 400/600, Loss: 1.4852327108383179\n",
            "Batch: 500/600, Loss: 1.5055590867996216\n",
            "-----------------------------------------------\n",
            "For epoch number 4 the results are:\n",
            "Train loss: 1.5121845769882203\n",
            "Test loss: 1.491473, Accuracy: 97.00%\n",
            "-----------------------------------------------\n",
            "Batch: 0/600, Loss: 1.4952889680862427\n",
            "Batch: 100/600, Loss: 1.491289496421814\n",
            "Batch: 200/600, Loss: 1.485952615737915\n",
            "Batch: 300/600, Loss: 1.5260392427444458\n",
            "Batch: 400/600, Loss: 1.4804587364196777\n",
            "Batch: 500/600, Loss: 1.516139268875122\n",
            "-----------------------------------------------\n",
            "For epoch number 5 the results are:\n",
            "Train loss: 1.506694257259369\n",
            "Test loss: 1.488951, Accuracy: 97.29%\n",
            "-----------------------------------------------\n",
            "Batch: 0/600, Loss: 1.5106596946716309\n",
            "Batch: 100/600, Loss: 1.5017169713974\n",
            "Batch: 200/600, Loss: 1.4977390766143799\n",
            "Batch: 300/600, Loss: 1.4864225387573242\n",
            "Batch: 400/600, Loss: 1.49159574508667\n",
            "Batch: 500/600, Loss: 1.5017313957214355\n",
            "-----------------------------------------------\n",
            "For epoch number 6 the results are:\n",
            "Train loss: 1.5024980773528418\n",
            "Test loss: 1.484445, Accuracy: 97.70%\n",
            "-----------------------------------------------\n",
            "Batch: 0/600, Loss: 1.5046250820159912\n",
            "Batch: 100/600, Loss: 1.4920361042022705\n",
            "Batch: 200/600, Loss: 1.4796119928359985\n",
            "Batch: 300/600, Loss: 1.4933688640594482\n",
            "Batch: 400/600, Loss: 1.4757808446884155\n",
            "Batch: 500/600, Loss: 1.4932599067687988\n",
            "-----------------------------------------------\n",
            "For epoch number 7 the results are:\n",
            "Train loss: 1.499629443883896\n",
            "Test loss: 1.484373, Accuracy: 97.67%\n",
            "-----------------------------------------------\n",
            "Batch: 0/600, Loss: 1.5024902820587158\n",
            "Batch: 100/600, Loss: 1.5151185989379883\n",
            "Batch: 200/600, Loss: 1.4813250303268433\n",
            "Batch: 300/600, Loss: 1.4825854301452637\n",
            "Batch: 400/600, Loss: 1.5048893690109253\n",
            "Batch: 500/600, Loss: 1.502579689025879\n",
            "-----------------------------------------------\n",
            "For epoch number 8 the results are:\n",
            "Train loss: 1.496651518146197\n",
            "Test loss: 1.480937, Accuracy: 98.04%\n",
            "-----------------------------------------------\n",
            "Batch: 0/600, Loss: 1.5075793266296387\n",
            "Batch: 100/600, Loss: 1.4983181953430176\n",
            "Batch: 200/600, Loss: 1.4909759759902954\n",
            "Batch: 300/600, Loss: 1.4997076988220215\n",
            "Batch: 400/600, Loss: 1.5330952405929565\n",
            "Batch: 500/600, Loss: 1.5261199474334717\n",
            "-----------------------------------------------\n",
            "For epoch number 9 the results are:\n",
            "Train loss: 1.4943380894263585\n",
            "Test loss: 1.479674, Accuracy: 98.18%\n",
            "-----------------------------------------------\n",
            "Batch: 0/600, Loss: 1.4921505451202393\n",
            "Batch: 100/600, Loss: 1.5109041929244995\n",
            "Batch: 200/600, Loss: 1.4786286354064941\n",
            "Batch: 300/600, Loss: 1.4947232007980347\n",
            "Batch: 400/600, Loss: 1.4925894737243652\n",
            "Batch: 500/600, Loss: 1.4730604887008667\n",
            "-----------------------------------------------\n",
            "For epoch number 10 the results are:\n",
            "Train loss: 1.4932220451037088\n",
            "Test loss: 1.477577, Accuracy: 98.41%\n",
            "-----------------------------------------------\n",
            "Batch: 0/600, Loss: 1.4948439598083496\n",
            "Batch: 100/600, Loss: 1.502781867980957\n",
            "Batch: 200/600, Loss: 1.5000441074371338\n",
            "Batch: 300/600, Loss: 1.4939802885055542\n",
            "Batch: 400/600, Loss: 1.4812040328979492\n",
            "Batch: 500/600, Loss: 1.5012562274932861\n",
            "-----------------------------------------------\n",
            "For epoch number 11 the results are:\n",
            "Train loss: 1.4948450607061385\n",
            "Test loss: 1.476927, Accuracy: 98.50%\n",
            "-----------------------------------------------\n",
            "Batch: 0/600, Loss: 1.4771612882614136\n",
            "Batch: 100/600, Loss: 1.494591474533081\n",
            "Batch: 200/600, Loss: 1.4721076488494873\n",
            "Batch: 300/600, Loss: 1.490202784538269\n",
            "Batch: 400/600, Loss: 1.509339451789856\n",
            "Batch: 500/600, Loss: 1.4916099309921265\n",
            "-----------------------------------------------\n",
            "For epoch number 12 the results are:\n",
            "Train loss: 1.4911415501435599\n",
            "Test loss: 1.476717, Accuracy: 98.45%\n",
            "-----------------------------------------------\n",
            "Batch: 0/600, Loss: 1.4901244640350342\n",
            "Batch: 100/600, Loss: 1.5254924297332764\n",
            "Batch: 200/600, Loss: 1.4904178380966187\n",
            "Batch: 300/600, Loss: 1.4954639673233032\n",
            "Batch: 400/600, Loss: 1.5086020231246948\n",
            "Batch: 500/600, Loss: 1.5064886808395386\n",
            "-----------------------------------------------\n",
            "For epoch number 13 the results are:\n",
            "Train loss: 1.4902356998125712\n",
            "Test loss: 1.476600, Accuracy: 98.54%\n",
            "-----------------------------------------------\n",
            "Batch: 0/600, Loss: 1.5041451454162598\n",
            "Batch: 100/600, Loss: 1.4871816635131836\n",
            "Batch: 200/600, Loss: 1.4696874618530273\n",
            "Batch: 300/600, Loss: 1.4885377883911133\n",
            "Batch: 400/600, Loss: 1.4917094707489014\n",
            "Batch: 500/600, Loss: 1.4673759937286377\n",
            "-----------------------------------------------\n",
            "For epoch number 14 the results are:\n",
            "Train loss: 1.4898529899120332\n",
            "Test loss: 1.476533, Accuracy: 98.46%\n",
            "-----------------------------------------------\n",
            "Batch: 0/600, Loss: 1.4987092018127441\n",
            "Batch: 100/600, Loss: 1.4891554117202759\n",
            "Batch: 200/600, Loss: 1.490612506866455\n",
            "Batch: 300/600, Loss: 1.4746698141098022\n",
            "Batch: 400/600, Loss: 1.4910309314727783\n",
            "Batch: 500/600, Loss: 1.5390914678573608\n",
            "-----------------------------------------------\n",
            "For epoch number 15 the results are:\n",
            "Train loss: 1.4879569119215013\n",
            "Test loss: 1.476093, Accuracy: 98.51%\n",
            "-----------------------------------------------\n",
            "Batch: 0/600, Loss: 1.475696086883545\n",
            "Batch: 100/600, Loss: 1.469412088394165\n",
            "Batch: 200/600, Loss: 1.4914354085922241\n",
            "Batch: 300/600, Loss: 1.4792219400405884\n",
            "Batch: 400/600, Loss: 1.5155531167984009\n",
            "Batch: 500/600, Loss: 1.4810675382614136\n",
            "-----------------------------------------------\n",
            "For epoch number 16 the results are:\n",
            "Train loss: 1.4867928912242254\n",
            "Test loss: 1.477470, Accuracy: 98.40%\n",
            "-----------------------------------------------\n",
            "Batch: 0/600, Loss: 1.4954146146774292\n",
            "Batch: 100/600, Loss: 1.481473684310913\n",
            "Batch: 200/600, Loss: 1.4855694770812988\n",
            "Batch: 300/600, Loss: 1.51179838180542\n",
            "Batch: 400/600, Loss: 1.4800273180007935\n",
            "Batch: 500/600, Loss: 1.5284767150878906\n",
            "-----------------------------------------------\n",
            "For epoch number 17 the results are:\n",
            "Train loss: 1.487204139828682\n",
            "Test loss: 1.474962, Accuracy: 98.62%\n",
            "-----------------------------------------------\n",
            "Batch: 0/600, Loss: 1.4614022970199585\n",
            "Batch: 100/600, Loss: 1.4985827207565308\n",
            "Batch: 200/600, Loss: 1.52193284034729\n",
            "Batch: 300/600, Loss: 1.4919651746749878\n",
            "Batch: 400/600, Loss: 1.4836421012878418\n",
            "Batch: 500/600, Loss: 1.4800879955291748\n",
            "-----------------------------------------------\n",
            "For epoch number 18 the results are:\n",
            "Train loss: 1.4868624591827393\n",
            "Test loss: 1.476801, Accuracy: 98.44%\n",
            "-----------------------------------------------\n",
            "Batch: 0/600, Loss: 1.4714164733886719\n",
            "Batch: 100/600, Loss: 1.47690749168396\n",
            "Batch: 200/600, Loss: 1.4811701774597168\n",
            "Batch: 300/600, Loss: 1.492417573928833\n",
            "Batch: 400/600, Loss: 1.5152885913848877\n",
            "Batch: 500/600, Loss: 1.4755438566207886\n",
            "-----------------------------------------------\n",
            "For epoch number 19 the results are:\n",
            "Train loss: 1.4856094217300415\n",
            "Test loss: 1.475253, Accuracy: 98.57%\n",
            "-----------------------------------------------\n",
            "Batch: 0/600, Loss: 1.4843555688858032\n",
            "Batch: 100/600, Loss: 1.474351167678833\n",
            "Batch: 200/600, Loss: 1.464023470878601\n",
            "Batch: 300/600, Loss: 1.477491021156311\n",
            "Batch: 400/600, Loss: 1.4783061742782593\n",
            "Batch: 500/600, Loss: 1.4611632823944092\n",
            "-----------------------------------------------\n",
            "For epoch number 20 the results are:\n",
            "Train loss: 1.4853184833129247\n",
            "Test loss: 1.475074, Accuracy: 98.63%\n",
            "-----------------------------------------------\n"
          ]
        }
      ]
    },
    {
      "cell_type": "code",
      "source": [
        "# prompt: make aplot for the loss valuest in the test part of a cnn\n",
        "\n",
        "import matplotlib.pyplot as plt\n",
        "\n",
        "# Assuming loss_vec is a list containing the loss values from each epoch\n",
        "plt.plot(test_loss_vec)\n",
        "plt.plot(train_loss_vec)\n",
        "plt.xlabel('Epoch')\n",
        "plt.ylabel('Test Loss')\n",
        "plt.title('Loss over Epochs')\n",
        "plt.legend(['Test Loss', 'Train Loss'])\n",
        "plt.show()\n",
        "\n",
        "# plot also the accuracy\n",
        "plt.plot(acc_vec)\n",
        "plt.xlabel('Epoch')\n",
        "plt.ylabel('Accuracy')\n",
        "plt.title('Accuracy over Epochs')\n",
        "plt.show()"
      ],
      "metadata": {
        "colab": {
          "base_uri": "https://localhost:8080/",
          "height": 927
        },
        "id": "OaZ2YoF3NYsy",
        "outputId": "6de6a2d9-ef68-4a02-d90f-f4f2cf40e913"
      },
      "execution_count": 17,
      "outputs": [
        {
          "output_type": "display_data",
          "data": {
            "text/plain": [
              "<Figure size 640x480 with 1 Axes>"
            ],
            "image/png": "[encoded data removed]"
          },
          "metadata": {}
        },
        {
          "output_type": "display_data",
          "data": {
            "text/plain": [
              "<Figure size 640x480 with 1 Axes>"
            ],
            "image/png": "[encoded data removed]"
          },
          "metadata": {}
        }
      ]
    }
  ]
}